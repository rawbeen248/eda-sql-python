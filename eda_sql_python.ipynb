{
 "cells": [
  {
   "cell_type": "markdown",
   "metadata": {},
   "source": [
    "# SQL Data Analysis Project on the Chinook Database\n",
    "\n",
    "In this project, we're going to perform a comprehensive data analysis on the Chinook Database. The Chinook Database holds information about a music store. It contains 11 tables, namely: 'Employee', 'Customer', 'Invoice', 'InvoiceLine', 'Artist', 'Album', 'Track', 'Genre', 'MediaType', 'Playlist', and 'PlaylistTrack'.\n",
    "\n",
    "My goals for this project are as follows:\n",
    "\n",
    "1. Inspect all tables in the database: I will write a SQL query to fetch the contents of each table, display the first few rows, and understand the structure of the data.\n",
    "\n",
    "2. Check for missing data: I will write a function to iterate over each table and column, checking for any missing values.\n",
    "\n",
    "3. Answer 20 business questions using SQL: These questions will allow me to explore a variety of SQL queries, enhancing my understanding and showcasing my SQL skills.\n",
    "\n",
    "4. Visualize the results: After querying the database, I'll use Python and Matplotlib to create visualizations that will help me better understand the data and my findings.\n",
    "\n",
    "Here are 20 questions:\n",
    "\n",
    "1. What is the total revenue per country?\n",
    "2. Who are the top 5 customers by revenue?\n",
    "3. What are the top 10 best selling tracks?\n",
    "4. What percentage of total revenue does each country contribute?\n",
    "5. What are the top 5 albums by sales?\n",
    "6. What percentage of total sales does each genre represent?\n",
    "7. Who are the top 3 employees by sales?\n",
    "8. What is the sales data per year?\n",
    "9. What is the sales data per month?\n",
    "10. How many customers does each employee support?\n",
    "11. What percentage of total sales does each media type represent?\n",
    "12. How many playlists include each track?\n",
    "13. What is the total time length of all tracks sold per genre?\n",
    "14. What percentage of total revenue does each media type contribute?\n",
    "15. What are the top 5 countries by invoice count?\n",
    "16. What is the distribution of sales among the different billing cities?\n",
    "17. How many invoices were there each year?\n",
    "18. How many tracks are there in each playlist?\n",
    "19. What is the average invoice total per country?\n",
    "20. What is the average number of tracks per album?"
   ]
  },
  {
   "cell_type": "code",
   "execution_count": null,
   "metadata": {},
   "outputs": [],
   "source": [
    "# Importing the required libraries\n",
    "import sqlite3\n",
    "import pandas as pd\n",
    "import matplotlib.pyplot as plt"
   ]
  },
  {
   "cell_type": "code",
   "execution_count": null,
   "metadata": {},
   "outputs": [],
   "source": [
    "# Creating a connection\n",
    "conn = sqlite3.connect('Chinook_Sqlite.sqlite')"
   ]
  },
  {
   "cell_type": "code",
   "execution_count": null,
   "metadata": {},
   "outputs": [],
   "source": [
    "# Looking at all the tables in the databse\n",
    "query_all = \"SELECT name FROM sqlite_master WHERE type='table';\"\n",
    "df_tables = pd.read_sql_query(query_all, conn)\n",
    "df_tables"
   ]
  },
  {
   "cell_type": "code",
   "execution_count": null,
   "metadata": {},
   "outputs": [],
   "source": [
    "# function to display top 5 data from each tables in the database\n",
    "def inspect_tables(conn):\n",
    "    # Fetch all table names\n",
    "    query = \"SELECT name FROM sqlite_master WHERE type='table';\"\n",
    "    df_tables = pd.read_sql_query(query, conn)\n",
    "    table_names = df_tables['name'].tolist()\n",
    "\n",
    "    # Loop through each table and display the first few rows\n",
    "    for table_name in table_names:\n",
    "        query_table = f\"SELECT * FROM {table_name};\"\n",
    "        df_table = pd.read_sql_query(query_table, conn)\n",
    "        print(f\"Table: {table_name}\")\n",
    "        display(df_table.head())\n",
    "        print(\"\\n\" + \"=\" * 100 + \"\\n\")  # Print a separator line\n",
    "\n",
    "\n",
    "# function to check missing values in any tables in the database\n",
    "def check_missing_values(conn):\n",
    "    # Fetch all table names\n",
    "    query = \"SELECT name FROM sqlite_master WHERE type='table';\"\n",
    "    df_tables = pd.read_sql_query(query, conn)\n",
    "    table_names = df_tables['name'].tolist()\n",
    "\n",
    "    # Loop through each table and check for missing values\n",
    "    for table_name in table_names:\n",
    "        query_table = f\"SELECT * FROM {table_name};\"\n",
    "        df_table = pd.read_sql_query(query_table, conn)\n",
    "        print(f\"Table: {table_name}\")\n",
    "        print(df_table.isnull().sum())  # Print the number of missing values in each column\n",
    "        print(\"\\n\" + \"=\" * 100 + \"\\n\")  # Print a separator line\n"
   ]
  },
  {
   "cell_type": "code",
   "execution_count": null,
   "metadata": {},
   "outputs": [],
   "source": [
    "# Inspect all tables\n",
    "inspect_tables(conn)"
   ]
  },
  {
   "cell_type": "code",
   "execution_count": null,
   "metadata": {},
   "outputs": [],
   "source": [
    "# Check for missing values in all tables\n",
    "check_missing_values(conn)"
   ]
  },
  {
   "cell_type": "markdown",
   "metadata": {},
   "source": [
    "From the above output, we can see that there are some missing values but in this case for all 20 questions those missing values do not affect at all. So, for now I am not going to deal with those missing values. I will just move forward with the queries and visualization, keeping the presence of these missing values in mind. "
   ]
  },
  {
   "cell_type": "markdown",
   "metadata": {},
   "source": [
    "#### Functions to plot different figures "
   ]
  },
  {
   "cell_type": "code",
   "execution_count": null,
   "metadata": {},
   "outputs": [],
   "source": [
    "# Bargraph\n",
    "def plot_bar(df, x, y, title, xlabel, ylabel, color='skyblue'):\n",
    "    plt.figure(figsize=(12,6))\n",
    "    plt.bar(df[x], df[y], color=color)\n",
    "    plt.title(title)\n",
    "    plt.xlabel(xlabel)\n",
    "    plt.ylabel(ylabel)\n",
    "    plt.show()\n",
    "\n",
    "# Horizontal Bargraph \n",
    "def plot_barh(df, x, y, title, xlabel, ylabel, color='skyblue'):\n",
    "    plt.figure(figsize=(12,6))\n",
    "    df = df.iloc[::-1]  # Reverse the DataFrame for a better chart\n",
    "    plt.barh(df[x], df[y], color=color)\n",
    "    plt.title(title)\n",
    "    plt.xlabel(xlabel)\n",
    "    plt.ylabel(ylabel)\n",
    "    plt.show()\n",
    "\n",
    "# Pie-chart\n",
    "\n",
    "colors = [\"#1f77b4\", \"#ff7f0e\", \"#2ca02c\", \"#d62728\", \"#9467bd\",\n",
    "          \"#8c564b\", \"#e377c2\", \"#7f7f7f\", \"#bcbd22\", \"#17becf\", \"#A52A2A\"]\n",
    "\n",
    "def plot_pie(df, x, y, title, colors):\n",
    "    plt.figure(figsize=(8,8))\n",
    "    plt.pie(df[y], labels=df[x], autopct='%1.1f%%', colors=colors)\n",
    "    plt.title(title)\n",
    "    plt.show()\n",
    "\n",
    "# Scatter plot\n",
    "def plot_scatter(df, x, y, title, xlabel, ylabel, color='skyblue'):\n",
    "    plt.figure(figsize=(12,6))\n",
    "    plt.scatter(df[x], df[y], color=color)\n",
    "    plt.title(title)\n",
    "    plt.xlabel(xlabel)\n",
    "    plt.ylabel(ylabel)\n",
    "    plt.show()\n",
    "\n",
    "# Line plot\n",
    "def plot_line(df, x, y, title, xlabel, ylabel, color='skyblue'):\n",
    "    plt.figure(figsize=(12,6))\n",
    "    plt.plot(df[x], df[y], color=color)\n",
    "    plt.title(title)\n",
    "    plt.xlabel(xlabel)\n",
    "    plt.ylabel(ylabel)\n",
    "    plt.show()\n",
    "\n",
    "# Histogram\n",
    "def plot_hist(df, x, title, xlabel, ylabel, bins=10, color='skyblue'):\n",
    "    plt.figure(figsize=(12,6))\n",
    "    plt.hist(df[x], bins=bins, color=color)\n",
    "    plt.title(title)\n",
    "    plt.xlabel(xlabel)\n",
    "    plt.ylabel(ylabel)\n",
    "    plt.show()\n"
   ]
  },
  {
   "cell_type": "markdown",
   "metadata": {},
   "source": [
    "Now, I will use sql queries to answer the 20 questions and then above functions to plot the figures to visualize the answers."
   ]
  },
  {
   "cell_type": "markdown",
   "metadata": {},
   "source": [
    "1. What is the total revenue per country?"
   ]
  },
  {
   "cell_type": "code",
   "execution_count": null,
   "metadata": {},
   "outputs": [],
   "source": [
    "# 1. Total revenue per country\n",
    "query_1 = \"\"\"\n",
    "    SELECT \n",
    "        BillingCountry, \n",
    "        SUM(Total) as TotalRevenue\n",
    "    FROM \n",
    "        Invoice\n",
    "    GROUP BY \n",
    "        BillingCountry\n",
    "    ORDER BY \n",
    "        TotalRevenue DESC;\n",
    "    \"\"\"\n",
    "\n",
    "# Fetch data into a pandas DataFrame\n",
    "df1 = pd.read_sql_query(query_1, conn)\n",
    "\n",
    "# Display the head of the dataframe \n",
    "df1.head(5)"
   ]
  },
  {
   "cell_type": "code",
   "execution_count": null,
   "metadata": {},
   "outputs": [],
   "source": [
    "# Plot the data\n",
    "plot_barh(df1, 'BillingCountry', 'TotalRevenue', 'Total Revenue by Country', 'Total Revenue', 'Country')"
   ]
  },
  {
   "cell_type": "markdown",
   "metadata": {},
   "source": [
    "2. Who are the top 5 customers by revenue?"
   ]
  },
  {
   "cell_type": "code",
   "execution_count": null,
   "metadata": {},
   "outputs": [],
   "source": [
    "# 2. Top 5 customers by revenue\n",
    "query_2 = \"\"\"\n",
    "    SELECT \n",
    "        c.FirstName || ' ' || c.LastName as FullName, \n",
    "        SUM(i.Total) as TotalSpent\n",
    "    FROM \n",
    "        Customer c\n",
    "    JOIN \n",
    "        Invoice i ON c.CustomerId = i.CustomerId\n",
    "    GROUP BY \n",
    "        FullName\n",
    "    ORDER BY \n",
    "        TotalSpent DESC\n",
    "    LIMIT 5;\n",
    "    \"\"\"\n",
    "\n",
    "# Fetch data into a pandas DataFrame\n",
    "df2 = pd.read_sql_query(query_2, conn)\n",
    "\n",
    "# Display the head of the dataframe \n",
    "df2.head(5)"
   ]
  },
  {
   "cell_type": "code",
   "execution_count": null,
   "metadata": {},
   "outputs": [],
   "source": [
    "# Plot the data\n",
    "plot_bar(df2, 'FullName', 'TotalSpent', 'Top 5 customers by revenue', 'Customer', 'Total Spent')"
   ]
  },
  {
   "cell_type": "markdown",
   "metadata": {},
   "source": [
    "3. What are the top 10 best selling tracks?"
   ]
  },
  {
   "cell_type": "code",
   "execution_count": null,
   "metadata": {},
   "outputs": [],
   "source": [
    "# 3. Top 10 best selling tracks\n",
    "query_3 = \"\"\"\n",
    "    SELECT \n",
    "        t.Name as TrackName, \n",
    "        COUNT(il.InvoiceLineId) as TotalSold\n",
    "    FROM \n",
    "        Track t\n",
    "    JOIN \n",
    "        InvoiceLine il ON t.TrackId = il.TrackId\n",
    "    GROUP BY \n",
    "        TrackName\n",
    "    ORDER BY \n",
    "        TotalSold DESC\n",
    "    LIMIT 10;\n",
    "    \"\"\"\n",
    "\n",
    "# Fetch data into a pandas DataFrame\n",
    "df3 = pd.read_sql_query(query_3, conn)\n",
    "\n",
    "# Display the head of the dataframe \n",
    "df3.head(5)"
   ]
  },
  {
   "cell_type": "code",
   "execution_count": null,
   "metadata": {},
   "outputs": [],
   "source": [
    "# Plot the data\n",
    "plot_barh(df3, 'TrackName', 'TotalSold', 'Top 10 best selling tracks', 'Sold', 'Track')\n"
   ]
  },
  {
   "cell_type": "markdown",
   "metadata": {},
   "source": [
    "4. What percentage of total revenue does each country contribute?"
   ]
  },
  {
   "cell_type": "code",
   "execution_count": null,
   "metadata": {},
   "outputs": [],
   "source": [
    "# 4. Percentage of total revenue by each country\n",
    "query_4 = \"\"\"\n",
    "    SELECT \n",
    "        BillingCountry, \n",
    "        SUM(Total) as TotalRevenue \n",
    "    FROM \n",
    "        Invoice \n",
    "    GROUP BY \n",
    "        BillingCountry;\n",
    "    \"\"\"\n",
    "\n",
    "# Fetch data into a pandas DataFrame\n",
    "df4 = pd.read_sql_query(query_4, conn)\n",
    "\n",
    "# Sort the dataframe by 'TotalRevenue'\n",
    "df4 = df4.sort_values(by='TotalRevenue', ascending=False)\n",
    "\n",
    "# Create a new dataframe with the top 10\n",
    "top_10 = df4[:10].copy()\n",
    "\n",
    "# Create a new row for 'Others'\n",
    "new_row_df4 = pd.DataFrame(data = {\n",
    "    'BillingCountry' : ['Others'],\n",
    "    'TotalRevenue' : [df4['TotalRevenue'][10:].sum()]\n",
    "})\n",
    "\n",
    "# Concatenate the top 10 dataframe with the new 'Others' row\n",
    "final_df4 = pd.concat([top_10, new_row_df4])\n",
    "\n",
    "# Calculating the percentage\n",
    "final_df4['Percentage'] = (final_df4['TotalRevenue'] / final_df4['TotalRevenue'].sum()) * 100\n",
    "\n",
    "\n",
    "# Display the head of the dataframe \n",
    "final_df4.head(5)"
   ]
  },
  {
   "cell_type": "code",
   "execution_count": null,
   "metadata": {},
   "outputs": [],
   "source": [
    "# Plot the data\n",
    "plot_pie(final_df4, 'BillingCountry', 'Percentage', 'Percentage of Total Revenue by Country', colors)"
   ]
  },
  {
   "cell_type": "markdown",
   "metadata": {},
   "source": [
    "5. What are the top 5 albums by sales?"
   ]
  },
  {
   "cell_type": "code",
   "execution_count": null,
   "metadata": {},
   "outputs": [],
   "source": [
    "# 5. Top 5 albums by sales\n",
    "query_5 = \"\"\"\n",
    "    SELECT \n",
    "        a.Title as Album, \n",
    "        COUNT(il.InvoiceLineId) as TotalSold\n",
    "    FROM \n",
    "        Album a\n",
    "    JOIN \n",
    "        Track t ON a.AlbumId = t.AlbumId\n",
    "    JOIN \n",
    "        InvoiceLine il ON t.TrackId = il.TrackId\n",
    "    GROUP BY \n",
    "        Album\n",
    "    ORDER BY \n",
    "        TotalSold DESC\n",
    "    LIMIT 5;\n",
    "    \"\"\"\n",
    "\n",
    "# Fetch data into a pandas DataFrame\n",
    "df5 = pd.read_sql_query(query_5, conn)\n",
    "\n",
    "# Display the head of the dataframe \n",
    "df5.head(5)"
   ]
  },
  {
   "cell_type": "code",
   "execution_count": null,
   "metadata": {},
   "outputs": [],
   "source": [
    "# Plot the data\n",
    "plot_bar(df5, 'Album', 'TotalSold', 'Top 5 albums by sales', 'Total Sold', 'Album')"
   ]
  },
  {
   "cell_type": "markdown",
   "metadata": {},
   "source": [
    "6. What percentage of total sales does each genre represent?"
   ]
  },
  {
   "cell_type": "code",
   "execution_count": null,
   "metadata": {},
   "outputs": [],
   "source": [
    "# 6. Percentage of total sales each genre represent\n",
    "query_6 = \"\"\"\n",
    "    SELECT \n",
    "        g.Name, \n",
    "        COUNT(il.InvoiceLineId) as TotalSales \n",
    "    FROM \n",
    "        Genre g \n",
    "    JOIN \n",
    "        Track t ON g.GenreId = t.GenreId \n",
    "    JOIN \n",
    "        InvoiceLine il ON t.TrackId = il.TrackId \n",
    "    GROUP BY \n",
    "        g.Name;\n",
    "    \"\"\"\n",
    "\n",
    "# Fetch data into a pandas DataFrame\n",
    "df6 = pd.read_sql_query(query_6, conn)\n",
    "\n",
    "# Sort the dataframe by 'TotalSales'\n",
    "df6 = df6.sort_values(by='TotalSales', ascending=False)\n",
    "\n",
    "# Create a new dataframe with the top 10\n",
    "top_10_df6 = df6[:10].copy()\n",
    "\n",
    "# Create a new row for 'Others'\n",
    "new_row_df6 = pd.DataFrame(data = {\n",
    "    'Name' : ['Others'],\n",
    "    'TotalSales' : [df6['TotalSales'][10:].sum()]\n",
    "})\n",
    "\n",
    "# Concatenate the top 10 dataframe with the new 'Others' row\n",
    "final_df6 = pd.concat([top_10_df6, new_row_df6])\n",
    "\n",
    "# Calculating the percentage\n",
    "final_df6['Percentage'] = (final_df6['TotalSales'] / final_df6['TotalSales'].sum()) * 100\n",
    "\n",
    "# Display the head of the dataframe \n",
    "final_df6.head(5)"
   ]
  },
  {
   "cell_type": "code",
   "execution_count": null,
   "metadata": {},
   "outputs": [],
   "source": [
    "# Plot the data\n",
    "plot_pie(final_df6, 'Name', 'Percentage', 'Percentage of Total Sales by Genre', colors)"
   ]
  },
  {
   "cell_type": "markdown",
   "metadata": {},
   "source": [
    "7. Who are the top 3 employees by sales?"
   ]
  },
  {
   "cell_type": "code",
   "execution_count": null,
   "metadata": {},
   "outputs": [],
   "source": [
    "# 7. Top 3 employees by sales\n",
    "query_7 = \"\"\"\n",
    "    SELECT \n",
    "        e.FirstName || ' ' || e.LastName as FullName, \n",
    "        SUM(i.Total) as TotalSales\n",
    "    FROM \n",
    "        Employee e\n",
    "    JOIN \n",
    "        Customer c ON e.EmployeeId = c.SupportRepId\n",
    "    JOIN \n",
    "        Invoice i ON c.CustomerId = i.CustomerId\n",
    "    GROUP BY \n",
    "        FullName\n",
    "    ORDER BY \n",
    "        TotalSales DESC\n",
    "    LIMIT 3;\n",
    "    \"\"\"\n",
    "\n",
    "# Fetch data into a pandas DataFrame\n",
    "df7 = pd.read_sql_query(query_7, conn)\n",
    "\n",
    "# Display the head of the dataframe \n",
    "df7.head(3)"
   ]
  },
  {
   "cell_type": "code",
   "execution_count": null,
   "metadata": {},
   "outputs": [],
   "source": [
    "# Plot the data\n",
    "plot_bar(df7, 'FullName', 'TotalSales', 'Top 3 employees by sales', 'Employee', 'Total Sales')\n"
   ]
  },
  {
   "cell_type": "markdown",
   "metadata": {},
   "source": [
    "8. What is the sales data per year?"
   ]
  },
  {
   "cell_type": "code",
   "execution_count": null,
   "metadata": {},
   "outputs": [],
   "source": [
    "# 8. Sales data per year\n",
    "query_8 = \"\"\"\n",
    "    SELECT \n",
    "        strftime('%Y', i.InvoiceDate) as Year, \n",
    "        SUM(i.Total) as TotalSales\n",
    "    FROM \n",
    "        Invoice i\n",
    "    GROUP BY \n",
    "        Year\n",
    "    ORDER BY \n",
    "        Year;\n",
    "    \"\"\"\n",
    "\n",
    "# Fetch data into a pandas DataFrame\n",
    "df8 = pd.read_sql_query(query_8, conn)\n",
    "\n",
    "# Display the head of the dataframe \n",
    "df8.head(5)"
   ]
  },
  {
   "cell_type": "code",
   "execution_count": null,
   "metadata": {},
   "outputs": [],
   "source": [
    "# Plot the data\n",
    "plot_line(df8, 'Year', 'TotalSales', 'Sales data per year', 'Year', 'Total Sales')\n"
   ]
  },
  {
   "cell_type": "markdown",
   "metadata": {},
   "source": [
    "9. What is the sales data per month?"
   ]
  },
  {
   "cell_type": "code",
   "execution_count": null,
   "metadata": {},
   "outputs": [],
   "source": [
    "# 9. Sales data per month\n",
    "query_9 = \"\"\"\n",
    "    SELECT \n",
    "        strftime('%Y-%m', i.InvoiceDate) as Month, \n",
    "        SUM(i.Total) as TotalSales\n",
    "    FROM \n",
    "        Invoice i\n",
    "    GROUP BY \n",
    "        Month\n",
    "    ORDER BY \n",
    "        Month;\n",
    "    \"\"\"\n",
    "\n",
    "# Fetch data into a pandas DataFrame\n",
    "df9 = pd.read_sql_query(query_9, conn)\n",
    "\n",
    "# Display the head of the dataframe \n",
    "df9.head(5)"
   ]
  },
  {
   "cell_type": "code",
   "execution_count": null,
   "metadata": {},
   "outputs": [],
   "source": [
    "# Plot the data\n",
    "plot_line(df9, 'Month', 'TotalSales', 'Sales data per month', 'Month', 'Total Sales')\n"
   ]
  },
  {
   "cell_type": "markdown",
   "metadata": {},
   "source": [
    "10. How many customers does each employee support?"
   ]
  },
  {
   "cell_type": "code",
   "execution_count": null,
   "metadata": {},
   "outputs": [],
   "source": [
    "# 10. Number of customers each employee supports\n",
    "query_10 = \"\"\"\n",
    "    SELECT \n",
    "        e.FirstName || ' ' || e.LastName as FullName, \n",
    "        COUNT(c.CustomerId) as TotalCustomers\n",
    "    FROM \n",
    "        Employee e\n",
    "    JOIN \n",
    "        Customer c ON e.EmployeeId = c.SupportRepId\n",
    "    GROUP BY \n",
    "        FullName\n",
    "    ORDER BY \n",
    "        TotalCustomers DESC;\n",
    "    \"\"\"\n",
    "\n",
    "# Fetch data into a pandas DataFrame\n",
    "df10 = pd.read_sql_query(query_10, conn)\n",
    "\n",
    "# Display the head of the dataframe \n",
    "df10.head(5)"
   ]
  },
  {
   "cell_type": "code",
   "execution_count": null,
   "metadata": {},
   "outputs": [],
   "source": [
    "# Plot the data\n",
    "plot_bar(df10, 'FullName', 'TotalCustomers', 'Number of customers each employee supports', 'Employee', 'Total Customers')"
   ]
  },
  {
   "cell_type": "markdown",
   "metadata": {},
   "source": [
    "11. What percentage of total sales does each media type represent?"
   ]
  },
  {
   "cell_type": "code",
   "execution_count": null,
   "metadata": {},
   "outputs": [],
   "source": [
    "# 11. Percentage of total sales by each media type\n",
    "query_11 = \"\"\"\n",
    "    SELECT \n",
    "        mt.Name, \n",
    "        COUNT(il.InvoiceLineId) as TotalSales \n",
    "    FROM \n",
    "        MediaType mt \n",
    "    JOIN \n",
    "        Track t ON mt.MediaTypeId = t.MediaTypeId \n",
    "    JOIN \n",
    "        InvoiceLine il ON t.TrackId = il.TrackId \n",
    "    GROUP BY \n",
    "        mt.Name;\n",
    "    \"\"\"\n",
    "\n",
    "# Fetch data into a pandas DataFrame\n",
    "df11 = pd.read_sql_query(query_11, conn)\n",
    "\n",
    "# Sort the dataframe by 'TotalSales'\n",
    "df11 = df11.sort_values(by='TotalSales', ascending=False)\n",
    "\n",
    "# Create a new dataframe with the top 3\n",
    "top_3_df11 = df11[:3].copy()\n",
    "\n",
    "# Create a new row for 'Others'\n",
    "new_row_df11 = pd.DataFrame(data = {\n",
    "    'Name' : ['Others'],\n",
    "    'TotalSales' : [df11['TotalSales'][3:].sum()]\n",
    "})\n",
    "\n",
    "# Concatenate the top 3 dataframe with the new 'Others' row\n",
    "final_df11 = pd.concat([top_3_df11, new_row_df11])\n",
    "\n",
    "# Calculating the percentage\n",
    "final_df11['Percentage'] = (final_df11['TotalSales'] / final_df11['TotalSales'].sum()) * 100\n",
    "\n",
    "# Display the head of the dataframe \n",
    "final_df11.head(5)"
   ]
  },
  {
   "cell_type": "code",
   "execution_count": null,
   "metadata": {},
   "outputs": [],
   "source": [
    "# Plot the data\n",
    "plot_pie(final_df11, 'Name', 'Percentage', 'Percentage of total sales by media type', colors)"
   ]
  },
  {
   "cell_type": "markdown",
   "metadata": {},
   "source": [
    "12. How many playlists include each track?"
   ]
  },
  {
   "cell_type": "code",
   "execution_count": null,
   "metadata": {},
   "outputs": [],
   "source": [
    "# 12. How many playlists include each track\n",
    "query_12 = \"\"\"\n",
    "    SELECT \n",
    "        t.Name as Track, \n",
    "        COUNT(pt.PlaylistId) as PlaylistCount\n",
    "    FROM \n",
    "        Track t\n",
    "    JOIN \n",
    "        PlaylistTrack pt ON t.TrackId = pt.TrackId\n",
    "    GROUP BY \n",
    "        Track\n",
    "    ORDER BY \n",
    "        PlaylistCount DESC;\n",
    "    \"\"\"\n",
    "\n",
    "# Fetch data into a pandas DataFrame\n",
    "df12 = pd.read_sql_query(query_12, conn)\n",
    "# Only selecting top 10\n",
    "df12 = df12.head(10)\n",
    "# Display the head of the dataframe \n",
    "df12.head(5)"
   ]
  },
  {
   "cell_type": "code",
   "execution_count": null,
   "metadata": {},
   "outputs": [],
   "source": [
    "# Plot the data\n",
    "plot_barh(df12, 'Track', 'PlaylistCount', 'Number of playlists in each track', 'Playlist Count', 'Track')"
   ]
  },
  {
   "cell_type": "markdown",
   "metadata": {},
   "source": [
    "13. What is the total time length of all tracks sold per genre?"
   ]
  },
  {
   "cell_type": "code",
   "execution_count": null,
   "metadata": {},
   "outputs": [],
   "source": [
    "# 13. Total time length of all tracks sold per genre\n",
    "query_13 = \"\"\"\n",
    "    SELECT \n",
    "        g.Name as Genre, \n",
    "        SUM(t.Milliseconds) as TotalTime\n",
    "    FROM \n",
    "        Genre g\n",
    "    JOIN \n",
    "        Track t ON g.GenreId = t.GenreId\n",
    "    JOIN \n",
    "        InvoiceLine il ON t.TrackId = il.TrackId\n",
    "    GROUP BY \n",
    "        Genre\n",
    "    ORDER BY \n",
    "        TotalTime DESC;\n",
    "    \"\"\"\n",
    "\n",
    "# Fetch data into a pandas DataFrame\n",
    "df13 = pd.read_sql_query(query_13, conn)\n",
    "\n",
    "# Display the head of the dataframe \n",
    "df13.head(5)"
   ]
  },
  {
   "cell_type": "code",
   "execution_count": null,
   "metadata": {},
   "outputs": [],
   "source": [
    "# Plot the data\n",
    "plot_barh(df13, 'Genre', 'TotalTime', 'Total time length of all tracks sold per genre', 'Total Time', 'Genre')"
   ]
  },
  {
   "cell_type": "markdown",
   "metadata": {},
   "source": [
    "14. What percentage of total revenue does each media type contribute?"
   ]
  },
  {
   "cell_type": "code",
   "execution_count": null,
   "metadata": {},
   "outputs": [],
   "source": [
    "# 14. Percentage of total revenue by each media type\n",
    "query_14 = \"\"\"\n",
    "    SELECT \n",
    "        mt.Name as MediaType, \n",
    "        SUM(il.UnitPrice * il.Quantity) as TotalRevenue \n",
    "    FROM \n",
    "        MediaType mt\n",
    "    JOIN \n",
    "        Track t ON mt.MediaTypeId = t.MediaTypeId\n",
    "    JOIN \n",
    "        InvoiceLine il ON t.TrackId = il.TrackId \n",
    "    GROUP BY \n",
    "        mt.Name;\n",
    "    \"\"\"\n",
    "\n",
    "# Fetch data into a pandas DataFrame\n",
    "df14 = pd.read_sql_query(query_14, conn)\n",
    "\n",
    "# Sort the dataframe by 'TotalRevenue'\n",
    "df14 = df14.sort_values(by='TotalRevenue', ascending=False)\n",
    "\n",
    "# Create a new dataframe with the top 3\n",
    "top_3_df14 = df14[:3].copy()\n",
    "\n",
    "# Create a new row for 'Others'\n",
    "new_row_df14 = pd.DataFrame(data = {\n",
    "    'MediaType' : ['Others'],\n",
    "    'TotalRevenue' : [df14['TotalRevenue'][4:].sum()]\n",
    "})\n",
    "\n",
    "# Concatenate the top 3 dataframe with the new 'Others' row\n",
    "final_df14 = pd.concat([top_3_df14, new_row_df14])\n",
    "\n",
    "# Calculating the percentage\n",
    "final_df14['Percentage'] = (final_df14['TotalRevenue'] / final_df14['TotalRevenue'].sum()) * 100\n",
    "\n",
    "# Display the head of the dataframe \n",
    "final_df14.head(5)"
   ]
  },
  {
   "cell_type": "code",
   "execution_count": null,
   "metadata": {},
   "outputs": [],
   "source": [
    "# Plot the data\n",
    "plot_pie(final_df14, 'MediaType', 'Percentage', 'Percentage of total revenue by media type', colors)"
   ]
  },
  {
   "cell_type": "markdown",
   "metadata": {},
   "source": [
    "15. What are the top 5 countries by invoice count?"
   ]
  },
  {
   "cell_type": "code",
   "execution_count": null,
   "metadata": {},
   "outputs": [],
   "source": [
    "# 15. Top 5 countries by invoice count\n",
    "query_15 = \"\"\"\n",
    "    SELECT \n",
    "        BillingCountry, \n",
    "        COUNT(InvoiceId) as TotalInvoices\n",
    "    FROM \n",
    "        Invoice\n",
    "    GROUP BY \n",
    "        BillingCountry\n",
    "    ORDER BY \n",
    "        TotalInvoices DESC\n",
    "    LIMIT 5;\n",
    "    \"\"\"\n",
    "\n",
    "# Fetch data into a pandas DataFrame\n",
    "df15 = pd.read_sql_query(query_15, conn)\n",
    "\n",
    "# Display the head of the dataframe \n",
    "df15.head(5)"
   ]
  },
  {
   "cell_type": "code",
   "execution_count": null,
   "metadata": {},
   "outputs": [],
   "source": [
    "# Plot the data\n",
    "plot_bar(df15, 'BillingCountry', 'TotalInvoices', 'Top 5 countries by invoice count', 'Billing Country', 'Total Invoices')"
   ]
  },
  {
   "cell_type": "markdown",
   "metadata": {},
   "source": [
    "16. What is the distribution of sales among the different billing cities?"
   ]
  },
  {
   "cell_type": "code",
   "execution_count": null,
   "metadata": {},
   "outputs": [],
   "source": [
    "# 16. Distribution of sales among different billing cities\n",
    "query_16 = \"\"\"\n",
    "    SELECT \n",
    "        BillingCity, \n",
    "        SUM(Total) as TotalSales\n",
    "    FROM \n",
    "        Invoice\n",
    "    GROUP BY \n",
    "        BillingCity\n",
    "    ORDER BY \n",
    "        TotalSales DESC;\n",
    "    \"\"\"\n",
    "\n",
    "# Fetch data into a pandas DataFrame\n",
    "df16 = pd.read_sql_query(query_16, conn)\n",
    "\n",
    "# Selecting top 20 \n",
    "df16 = df16.head(20)\n",
    "\n",
    "# Display the head of the dataframe \n",
    "df16.head(5)"
   ]
  },
  {
   "cell_type": "code",
   "execution_count": null,
   "metadata": {},
   "outputs": [],
   "source": [
    "# Plot the data\n",
    "plot_barh(df16, 'BillingCity', 'TotalSales', 'Distribution of sales among different billing cities', 'Total Sales', 'Billing City')"
   ]
  },
  {
   "cell_type": "markdown",
   "metadata": {},
   "source": [
    "17. How many invoices were there each year?"
   ]
  },
  {
   "cell_type": "code",
   "execution_count": null,
   "metadata": {},
   "outputs": [],
   "source": [
    "# 17. Number of invoices each year\n",
    "query_17 = \"\"\"\n",
    "    SELECT \n",
    "        strftime('%Y', InvoiceDate) as Year, \n",
    "        COUNT(InvoiceId) as TotalInvoices\n",
    "    FROM \n",
    "        Invoice\n",
    "    GROUP BY \n",
    "        Year\n",
    "    ORDER BY \n",
    "        Year;\n",
    "    \"\"\"\n",
    "\n",
    "# Fetch data into a pandas DataFrame\n",
    "df17 = pd.read_sql_query(query_17, conn)\n",
    "\n",
    "# Display the head of the dataframe \n",
    "df17.head(5)"
   ]
  },
  {
   "cell_type": "code",
   "execution_count": null,
   "metadata": {},
   "outputs": [],
   "source": [
    "# Plot the data\n",
    "plot_line(df17, 'Year', 'TotalInvoices', 'Number of invoices each year', 'Year', 'Total Invoices')"
   ]
  },
  {
   "cell_type": "markdown",
   "metadata": {},
   "source": [
    "18. How many tracks are there in each playlist?"
   ]
  },
  {
   "cell_type": "code",
   "execution_count": null,
   "metadata": {},
   "outputs": [],
   "source": [
    "# 18. Number of tracks in each playlist\n",
    "query_18 = \"\"\"\n",
    "    SELECT \n",
    "        p.Name as Playlist, \n",
    "        COUNT(pt.TrackId) as TotalTracks\n",
    "    FROM \n",
    "        Playlist p\n",
    "    JOIN \n",
    "        PlaylistTrack pt ON p.PlaylistId = pt.PlaylistId\n",
    "    GROUP BY \n",
    "        Playlist\n",
    "    ORDER BY \n",
    "        TotalTracks DESC;\n",
    "    \"\"\"\n",
    "\n",
    "# Fetch data into a pandas DataFrame\n",
    "df18 = pd.read_sql_query(query_18, conn)\n",
    "\n",
    "# Display the head of the dataframe \n",
    "df18.head(5)"
   ]
  },
  {
   "cell_type": "code",
   "execution_count": null,
   "metadata": {},
   "outputs": [],
   "source": [
    "# Plot the data\n",
    "plot_barh(df18, 'Playlist', 'TotalTracks', 'Number of tracks in each playlist', 'Playlist', 'Total Tracks')"
   ]
  },
  {
   "cell_type": "markdown",
   "metadata": {},
   "source": [
    "19. What is the average invoice total per country?"
   ]
  },
  {
   "cell_type": "code",
   "execution_count": null,
   "metadata": {},
   "outputs": [],
   "source": [
    "# 19. Average invoice total per country\n",
    "query_19 = \"\"\"\n",
    "    SELECT \n",
    "        BillingCountry, \n",
    "        AVG(Total) as AverageInvoice\n",
    "    FROM \n",
    "        Invoice\n",
    "    GROUP BY \n",
    "        BillingCountry\n",
    "    ORDER BY \n",
    "        AverageInvoice DESC;\n",
    "    \"\"\"\n",
    "\n",
    "# Fetch data into a pandas DataFrame\n",
    "df19 = pd.read_sql_query(query_19, conn)\n",
    "\n",
    "# Display the head of the dataframe \n",
    "df19.head(5)"
   ]
  },
  {
   "cell_type": "code",
   "execution_count": null,
   "metadata": {},
   "outputs": [],
   "source": [
    "# Plot the data\n",
    "plot_barh(df19, 'BillingCountry', 'AverageInvoice', 'Average invoice total per country', 'Country', 'Average Invoice')"
   ]
  },
  {
   "cell_type": "markdown",
   "metadata": {},
   "source": [
    "20. What is the average number of tracks per album?"
   ]
  },
  {
   "cell_type": "code",
   "execution_count": null,
   "metadata": {},
   "outputs": [],
   "source": [
    "# 20. Average number of tracks per album\n",
    "query_20 = \"\"\"\n",
    "    SELECT \n",
    "        a.Title as Album, \n",
    "        COUNT(t.TrackId) as NumberOfTracks\n",
    "    FROM \n",
    "        Album a\n",
    "    JOIN \n",
    "        Track t ON a.AlbumId = t.AlbumId\n",
    "    GROUP BY \n",
    "        Album\n",
    "    ORDER BY \n",
    "        NumberOfTracks DESC;\n",
    "    \"\"\"\n",
    "\n",
    "# Fetch data into a pandas DataFrame\n",
    "df20 = pd.read_sql_query(query_20, conn)\n",
    "\n",
    "# Slecting top 25\n",
    "df20 = df20.head(25)\n",
    "\n",
    "# Display the head of the dataframe \n",
    "df20.head(5)"
   ]
  },
  {
   "cell_type": "code",
   "execution_count": null,
   "metadata": {},
   "outputs": [],
   "source": [
    "# Plot the data\n",
    "plot_barh(df20, 'Album', 'NumberOfTracks', 'Average number of tracks per album', 'Album', 'Number Of Tracks')"
   ]
  },
  {
   "cell_type": "code",
   "execution_count": null,
   "metadata": {},
   "outputs": [],
   "source": [
    "# Close the connection\n",
    "conn.close()"
   ]
  }
 ],
 "metadata": {
  "kernelspec": {
   "display_name": "Python 3",
   "language": "python",
   "name": "python3"
  },
  "language_info": {
   "codemirror_mode": {
    "name": "ipython",
    "version": 3
   },
   "file_extension": ".py",
   "mimetype": "text/x-python",
   "name": "python",
   "nbconvert_exporter": "python",
   "pygments_lexer": "ipython3",
   "version": "3.11.4"
  },
  "orig_nbformat": 4
 },
 "nbformat": 4,
 "nbformat_minor": 2
}
